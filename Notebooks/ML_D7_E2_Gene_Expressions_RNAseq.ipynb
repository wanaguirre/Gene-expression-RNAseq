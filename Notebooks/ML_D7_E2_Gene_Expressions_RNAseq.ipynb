{
 "cells": [
  {
   "cell_type": "markdown",
   "metadata": {},
   "source": [
    "<a id='Q0'></a>\n",
    "<center><a target=\"_blank\" href=\"http://www.propulsion.academy\"><img src=\"https://drive.google.com/uc?id=1McNxpNrSwfqu1w-QtlOmPSmfULvkkMQV\" width=\"200\" style=\"background:none; border:none; box-shadow:none;\" /></a> </center>\n",
    "\n",
    "<center> <h1> Exercise:  Visualizing high-dimensional datasets</h1> </center>\n",
    "<center> <h1> using Dimensionality Reduction techniques </h1> </center>\n",
    "\n",
    "<p style=\"margin-bottom:1cm;\"></p>\n",
    "\n",
    "<center>Propulsion Academy, 2020</center>"
   ]
  },
  {
   "cell_type": "markdown",
   "metadata": {},
   "source": [
    "Exercise II. Gene expression RNAseq\n",
    "============================\n",
    "Use genomic [gene expression dataset](https://drive.google.com/drive/folders/1cFaJ0Oh-8-wv7xmUoC9xvdJ5NyujTfC8?usp=sharing) (6063 samples * 14460 identifiers). This dataset is already prepared for you by removing non-active genes which reduced its size from 60499 to 14460 features. If you are a domain expert, you can clean the dataset further. Otherwise, you can use the one provided.  \n",
    "The original dataset was taken from [here](https://xenabrowser.net/datapages/?dataset=tcga_RSEM_gene_tpm&host=https%3A%2F%2Ftoil.xenahubs.net&removeHub=https%3A%2F%2Fxena.treehouse.gi.ucsc.edu%3A443).  \n",
    "\n",
    "- Visualize your dataset in a scatter plot by projecting it via t-SNE and/or UMAP, PCA or another dimensionality reduction technique into a 2-dimensional space.\n",
    "- This article on [Visualizing high-dimensional datasets using PCA and t-SNE in Python](https://towardsdatascience.com/visualising-high-dimensional-datasets-using-pca-and-t-sne-in-python-8ef87e7915b) is a good starting point. Read carefully the article on [How to Use t-SNE Effectively](https://distill.pub/2016/misread-tsne/), so that you don't get tricked by your plots!\n",
    " \n",
    "- __Perform a principal component analysis (PCA).__\n",
    "    - How many principal components represent 95% of the total variance?\n",
    "    - Apply clustering after PCA. \n",
    "    - Analyze and interpret the results by creating visuals. \n",
    "    - Color the individual points from the 2-D scatter plot according to the cluster they belong to.\n",
    "\n",
    "\n",
    "- Redo the clustering by using [UMAP (Uniform Manifold Approximation and Projection)](https://umap-learn.readthedocs.io/en/latest/index.html) for dimensionality reduction.\n",
    "\n",
    "- Compare the cluster you found with the [primary_disease](https://drive.google.com/file/d/1-JrZ42o6kjK_jthPXYMdR-FY7CbqP-1m/view?usp=sharing) label from clinicalMatrix dataset. Hint: use beautiful [Sankey Diagrams](https://plotly.com/python/sankey-diagram/)\n",
    "- Using the plots (scatterplot and Sankey), compare the effect of different dimensionality reduction methods on the clustering.\n"
   ]
  },
  {
   "cell_type": "markdown",
   "metadata": {},
   "source": [
    "--------"
   ]
  },
  {
   "cell_type": "markdown",
   "metadata": {},
   "source": [
    "# Notebook Set-Up"
   ]
  },
  {
   "cell_type": "markdown",
   "metadata": {},
   "source": [
    "<span style=\"color:green\">**Modules and Libraries**"
   ]
  },
  {
   "cell_type": "code",
   "execution_count": 2,
   "metadata": {},
   "outputs": [],
   "source": [
    "# ----------------------------------GENERAL---------------------------------\n",
    "import pandas as pd\n",
    "import numpy as np\n",
    "import matplotlib.pyplot as plt\n",
    "# ----------------------------------OTHER-----------------------------------\n",
    "import warnings\n",
    "warnings.filterwarnings(\"ignore\")\n",
    "from sklearn.preprocessing import StandardScaler\n",
    "from sklearn.preprocessing import LabelEncoder\n",
    "# ----------------------------------PIPELINE AND MODELS---------------------\n",
    "from sklearn.pipeline import Pipeline\n",
    "from sklearn.decomposition import PCA\n",
    "from sklearn.cluster import KMeans\n",
    "# ----------------------------------VISUALIZATION---------------------------\n",
    "from sklearn.manifold import TSNE  \n",
    "from umap import UMAP\n",
    "from plotly import graph_objs as go\n",
    "plt.style.use(\"ggplot\")\n",
    "plt.rcParams[\"figure.figsize\"] = (12, 8)"
   ]
  },
  {
   "cell_type": "markdown",
   "metadata": {},
   "source": [
    "<span style=\"color:green\">**Necessary Functions for this Notebook**"
   ]
  },
  {
   "cell_type": "code",
   "execution_count": 3,
   "metadata": {},
   "outputs": [],
   "source": [
    "def rows_and_columns_counter (df):\n",
    "    print('Imported DataFrame has the following shape:', df.shape)\n",
    "    print('\\tso **', len(df.index),'** rows')\n",
    "    print('\\tso **', len(df.columns),'** columns')    "
   ]
  },
  {
   "cell_type": "code",
   "execution_count": 4,
   "metadata": {},
   "outputs": [],
   "source": [
    "# FUNCTION --> Ploting distributions of sample columns\n",
    "def plot_distrib(df, ncols, nrows, figsize):\n",
    "    vars_ = df.columns\n",
    "    c = 0\n",
    "    plt.figure(figsize=figsize)\n",
    "    for v in vars_:\n",
    "        ax = plt.subplot(nrows, ncols, c + 1)\n",
    "        _, nbins, _ = plt.hist(df[v], 20, color=\"g\", alpha=0.6, label=v)\n",
    "        plt.xlabel(v)\n",
    "        plt.legend(loc=\"best\")\n",
    "        c = c + 1\n",
    "    plt.show()"
   ]
  },
  {
   "cell_type": "markdown",
   "metadata": {},
   "source": [
    "# Loading Data"
   ]
  },
  {
   "cell_type": "code",
   "execution_count": 6,
   "metadata": {},
   "outputs": [
    {
     "ename": "FileNotFoundError",
     "evalue": "[Errno 2] No such file or directory: '../../data/tcga_RSEM_gene_tpm_sample_dataset.csv'",
     "output_type": "error",
     "traceback": [
      "\u001b[0;31m---------------------------------------------------------------------------\u001b[0m",
      "\u001b[0;31mFileNotFoundError\u001b[0m                         Traceback (most recent call last)",
      "\u001b[0;32m<ipython-input-6-94db1c0965e9>\u001b[0m in \u001b[0;36m<module>\u001b[0;34m\u001b[0m\n\u001b[0;32m----> 1\u001b[0;31m \u001b[0mgene_express\u001b[0m \u001b[0;34m=\u001b[0m \u001b[0mpd\u001b[0m\u001b[0;34m.\u001b[0m\u001b[0mread_csv\u001b[0m\u001b[0;34m(\u001b[0m\u001b[0;34m'../../data/tcga_RSEM_gene_tpm_sample_dataset.csv'\u001b[0m\u001b[0;34m,\u001b[0m\u001b[0mindex_col\u001b[0m\u001b[0;34m=\u001b[0m\u001b[0;36m0\u001b[0m\u001b[0;34m)\u001b[0m\u001b[0;34m\u001b[0m\u001b[0;34m\u001b[0m\u001b[0m\n\u001b[0m",
      "\u001b[0;32m~/anaconda3/envs/ml-082021/lib/python3.9/site-packages/pandas/util/_decorators.py\u001b[0m in \u001b[0;36mwrapper\u001b[0;34m(*args, **kwargs)\u001b[0m\n\u001b[1;32m    309\u001b[0m                     \u001b[0mstacklevel\u001b[0m\u001b[0;34m=\u001b[0m\u001b[0mstacklevel\u001b[0m\u001b[0;34m,\u001b[0m\u001b[0;34m\u001b[0m\u001b[0;34m\u001b[0m\u001b[0m\n\u001b[1;32m    310\u001b[0m                 )\n\u001b[0;32m--> 311\u001b[0;31m             \u001b[0;32mreturn\u001b[0m \u001b[0mfunc\u001b[0m\u001b[0;34m(\u001b[0m\u001b[0;34m*\u001b[0m\u001b[0margs\u001b[0m\u001b[0;34m,\u001b[0m \u001b[0;34m**\u001b[0m\u001b[0mkwargs\u001b[0m\u001b[0;34m)\u001b[0m\u001b[0;34m\u001b[0m\u001b[0;34m\u001b[0m\u001b[0m\n\u001b[0m\u001b[1;32m    312\u001b[0m \u001b[0;34m\u001b[0m\u001b[0m\n\u001b[1;32m    313\u001b[0m         \u001b[0;32mreturn\u001b[0m \u001b[0mwrapper\u001b[0m\u001b[0;34m\u001b[0m\u001b[0;34m\u001b[0m\u001b[0m\n",
      "\u001b[0;32m~/anaconda3/envs/ml-082021/lib/python3.9/site-packages/pandas/io/parsers/readers.py\u001b[0m in \u001b[0;36mread_csv\u001b[0;34m(filepath_or_buffer, sep, delimiter, header, names, index_col, usecols, squeeze, prefix, mangle_dupe_cols, dtype, engine, converters, true_values, false_values, skipinitialspace, skiprows, skipfooter, nrows, na_values, keep_default_na, na_filter, verbose, skip_blank_lines, parse_dates, infer_datetime_format, keep_date_col, date_parser, dayfirst, cache_dates, iterator, chunksize, compression, thousands, decimal, lineterminator, quotechar, quoting, doublequote, escapechar, comment, encoding, encoding_errors, dialect, error_bad_lines, warn_bad_lines, on_bad_lines, delim_whitespace, low_memory, memory_map, float_precision, storage_options)\u001b[0m\n\u001b[1;32m    584\u001b[0m     \u001b[0mkwds\u001b[0m\u001b[0;34m.\u001b[0m\u001b[0mupdate\u001b[0m\u001b[0;34m(\u001b[0m\u001b[0mkwds_defaults\u001b[0m\u001b[0;34m)\u001b[0m\u001b[0;34m\u001b[0m\u001b[0;34m\u001b[0m\u001b[0m\n\u001b[1;32m    585\u001b[0m \u001b[0;34m\u001b[0m\u001b[0m\n\u001b[0;32m--> 586\u001b[0;31m     \u001b[0;32mreturn\u001b[0m \u001b[0m_read\u001b[0m\u001b[0;34m(\u001b[0m\u001b[0mfilepath_or_buffer\u001b[0m\u001b[0;34m,\u001b[0m \u001b[0mkwds\u001b[0m\u001b[0;34m)\u001b[0m\u001b[0;34m\u001b[0m\u001b[0;34m\u001b[0m\u001b[0m\n\u001b[0m\u001b[1;32m    587\u001b[0m \u001b[0;34m\u001b[0m\u001b[0m\n\u001b[1;32m    588\u001b[0m \u001b[0;34m\u001b[0m\u001b[0m\n",
      "\u001b[0;32m~/anaconda3/envs/ml-082021/lib/python3.9/site-packages/pandas/io/parsers/readers.py\u001b[0m in \u001b[0;36m_read\u001b[0;34m(filepath_or_buffer, kwds)\u001b[0m\n\u001b[1;32m    480\u001b[0m \u001b[0;34m\u001b[0m\u001b[0m\n\u001b[1;32m    481\u001b[0m     \u001b[0;31m# Create the parser.\u001b[0m\u001b[0;34m\u001b[0m\u001b[0;34m\u001b[0m\u001b[0;34m\u001b[0m\u001b[0m\n\u001b[0;32m--> 482\u001b[0;31m     \u001b[0mparser\u001b[0m \u001b[0;34m=\u001b[0m \u001b[0mTextFileReader\u001b[0m\u001b[0;34m(\u001b[0m\u001b[0mfilepath_or_buffer\u001b[0m\u001b[0;34m,\u001b[0m \u001b[0;34m**\u001b[0m\u001b[0mkwds\u001b[0m\u001b[0;34m)\u001b[0m\u001b[0;34m\u001b[0m\u001b[0;34m\u001b[0m\u001b[0m\n\u001b[0m\u001b[1;32m    483\u001b[0m \u001b[0;34m\u001b[0m\u001b[0m\n\u001b[1;32m    484\u001b[0m     \u001b[0;32mif\u001b[0m \u001b[0mchunksize\u001b[0m \u001b[0;32mor\u001b[0m \u001b[0miterator\u001b[0m\u001b[0;34m:\u001b[0m\u001b[0;34m\u001b[0m\u001b[0;34m\u001b[0m\u001b[0m\n",
      "\u001b[0;32m~/anaconda3/envs/ml-082021/lib/python3.9/site-packages/pandas/io/parsers/readers.py\u001b[0m in \u001b[0;36m__init__\u001b[0;34m(self, f, engine, **kwds)\u001b[0m\n\u001b[1;32m    809\u001b[0m             \u001b[0mself\u001b[0m\u001b[0;34m.\u001b[0m\u001b[0moptions\u001b[0m\u001b[0;34m[\u001b[0m\u001b[0;34m\"has_index_names\"\u001b[0m\u001b[0;34m]\u001b[0m \u001b[0;34m=\u001b[0m \u001b[0mkwds\u001b[0m\u001b[0;34m[\u001b[0m\u001b[0;34m\"has_index_names\"\u001b[0m\u001b[0;34m]\u001b[0m\u001b[0;34m\u001b[0m\u001b[0;34m\u001b[0m\u001b[0m\n\u001b[1;32m    810\u001b[0m \u001b[0;34m\u001b[0m\u001b[0m\n\u001b[0;32m--> 811\u001b[0;31m         \u001b[0mself\u001b[0m\u001b[0;34m.\u001b[0m\u001b[0m_engine\u001b[0m \u001b[0;34m=\u001b[0m \u001b[0mself\u001b[0m\u001b[0;34m.\u001b[0m\u001b[0m_make_engine\u001b[0m\u001b[0;34m(\u001b[0m\u001b[0mself\u001b[0m\u001b[0;34m.\u001b[0m\u001b[0mengine\u001b[0m\u001b[0;34m)\u001b[0m\u001b[0;34m\u001b[0m\u001b[0;34m\u001b[0m\u001b[0m\n\u001b[0m\u001b[1;32m    812\u001b[0m \u001b[0;34m\u001b[0m\u001b[0m\n\u001b[1;32m    813\u001b[0m     \u001b[0;32mdef\u001b[0m \u001b[0mclose\u001b[0m\u001b[0;34m(\u001b[0m\u001b[0mself\u001b[0m\u001b[0;34m)\u001b[0m\u001b[0;34m:\u001b[0m\u001b[0;34m\u001b[0m\u001b[0;34m\u001b[0m\u001b[0m\n",
      "\u001b[0;32m~/anaconda3/envs/ml-082021/lib/python3.9/site-packages/pandas/io/parsers/readers.py\u001b[0m in \u001b[0;36m_make_engine\u001b[0;34m(self, engine)\u001b[0m\n\u001b[1;32m   1038\u001b[0m             )\n\u001b[1;32m   1039\u001b[0m         \u001b[0;31m# error: Too many arguments for \"ParserBase\"\u001b[0m\u001b[0;34m\u001b[0m\u001b[0;34m\u001b[0m\u001b[0;34m\u001b[0m\u001b[0m\n\u001b[0;32m-> 1040\u001b[0;31m         \u001b[0;32mreturn\u001b[0m \u001b[0mmapping\u001b[0m\u001b[0;34m[\u001b[0m\u001b[0mengine\u001b[0m\u001b[0;34m]\u001b[0m\u001b[0;34m(\u001b[0m\u001b[0mself\u001b[0m\u001b[0;34m.\u001b[0m\u001b[0mf\u001b[0m\u001b[0;34m,\u001b[0m \u001b[0;34m**\u001b[0m\u001b[0mself\u001b[0m\u001b[0;34m.\u001b[0m\u001b[0moptions\u001b[0m\u001b[0;34m)\u001b[0m  \u001b[0;31m# type: ignore[call-arg]\u001b[0m\u001b[0;34m\u001b[0m\u001b[0;34m\u001b[0m\u001b[0m\n\u001b[0m\u001b[1;32m   1041\u001b[0m \u001b[0;34m\u001b[0m\u001b[0m\n\u001b[1;32m   1042\u001b[0m     \u001b[0;32mdef\u001b[0m \u001b[0m_failover_to_python\u001b[0m\u001b[0;34m(\u001b[0m\u001b[0mself\u001b[0m\u001b[0;34m)\u001b[0m\u001b[0;34m:\u001b[0m\u001b[0;34m\u001b[0m\u001b[0;34m\u001b[0m\u001b[0m\n",
      "\u001b[0;32m~/anaconda3/envs/ml-082021/lib/python3.9/site-packages/pandas/io/parsers/c_parser_wrapper.py\u001b[0m in \u001b[0;36m__init__\u001b[0;34m(self, src, **kwds)\u001b[0m\n\u001b[1;32m     49\u001b[0m \u001b[0;34m\u001b[0m\u001b[0m\n\u001b[1;32m     50\u001b[0m         \u001b[0;31m# open handles\u001b[0m\u001b[0;34m\u001b[0m\u001b[0;34m\u001b[0m\u001b[0;34m\u001b[0m\u001b[0m\n\u001b[0;32m---> 51\u001b[0;31m         \u001b[0mself\u001b[0m\u001b[0;34m.\u001b[0m\u001b[0m_open_handles\u001b[0m\u001b[0;34m(\u001b[0m\u001b[0msrc\u001b[0m\u001b[0;34m,\u001b[0m \u001b[0mkwds\u001b[0m\u001b[0;34m)\u001b[0m\u001b[0;34m\u001b[0m\u001b[0;34m\u001b[0m\u001b[0m\n\u001b[0m\u001b[1;32m     52\u001b[0m         \u001b[0;32massert\u001b[0m \u001b[0mself\u001b[0m\u001b[0;34m.\u001b[0m\u001b[0mhandles\u001b[0m \u001b[0;32mis\u001b[0m \u001b[0;32mnot\u001b[0m \u001b[0;32mNone\u001b[0m\u001b[0;34m\u001b[0m\u001b[0;34m\u001b[0m\u001b[0m\n\u001b[1;32m     53\u001b[0m \u001b[0;34m\u001b[0m\u001b[0m\n",
      "\u001b[0;32m~/anaconda3/envs/ml-082021/lib/python3.9/site-packages/pandas/io/parsers/base_parser.py\u001b[0m in \u001b[0;36m_open_handles\u001b[0;34m(self, src, kwds)\u001b[0m\n\u001b[1;32m    220\u001b[0m         \u001b[0mLet\u001b[0m \u001b[0mthe\u001b[0m \u001b[0mreaders\u001b[0m \u001b[0mopen\u001b[0m \u001b[0mIOHandles\u001b[0m \u001b[0mafter\u001b[0m \u001b[0mthey\u001b[0m \u001b[0mare\u001b[0m \u001b[0mdone\u001b[0m \u001b[0;32mwith\u001b[0m \u001b[0mtheir\u001b[0m \u001b[0mpotential\u001b[0m \u001b[0mraises\u001b[0m\u001b[0;34m.\u001b[0m\u001b[0;34m\u001b[0m\u001b[0;34m\u001b[0m\u001b[0m\n\u001b[1;32m    221\u001b[0m         \"\"\"\n\u001b[0;32m--> 222\u001b[0;31m         self.handles = get_handle(\n\u001b[0m\u001b[1;32m    223\u001b[0m             \u001b[0msrc\u001b[0m\u001b[0;34m,\u001b[0m\u001b[0;34m\u001b[0m\u001b[0;34m\u001b[0m\u001b[0m\n\u001b[1;32m    224\u001b[0m             \u001b[0;34m\"r\"\u001b[0m\u001b[0;34m,\u001b[0m\u001b[0;34m\u001b[0m\u001b[0;34m\u001b[0m\u001b[0m\n",
      "\u001b[0;32m~/anaconda3/envs/ml-082021/lib/python3.9/site-packages/pandas/io/common.py\u001b[0m in \u001b[0;36mget_handle\u001b[0;34m(path_or_buf, mode, encoding, compression, memory_map, is_text, errors, storage_options)\u001b[0m\n\u001b[1;32m    699\u001b[0m         \u001b[0;32mif\u001b[0m \u001b[0mioargs\u001b[0m\u001b[0;34m.\u001b[0m\u001b[0mencoding\u001b[0m \u001b[0;32mand\u001b[0m \u001b[0;34m\"b\"\u001b[0m \u001b[0;32mnot\u001b[0m \u001b[0;32min\u001b[0m \u001b[0mioargs\u001b[0m\u001b[0;34m.\u001b[0m\u001b[0mmode\u001b[0m\u001b[0;34m:\u001b[0m\u001b[0;34m\u001b[0m\u001b[0;34m\u001b[0m\u001b[0m\n\u001b[1;32m    700\u001b[0m             \u001b[0;31m# Encoding\u001b[0m\u001b[0;34m\u001b[0m\u001b[0;34m\u001b[0m\u001b[0;34m\u001b[0m\u001b[0m\n\u001b[0;32m--> 701\u001b[0;31m             handle = open(\n\u001b[0m\u001b[1;32m    702\u001b[0m                 \u001b[0mhandle\u001b[0m\u001b[0;34m,\u001b[0m\u001b[0;34m\u001b[0m\u001b[0;34m\u001b[0m\u001b[0m\n\u001b[1;32m    703\u001b[0m                 \u001b[0mioargs\u001b[0m\u001b[0;34m.\u001b[0m\u001b[0mmode\u001b[0m\u001b[0;34m,\u001b[0m\u001b[0;34m\u001b[0m\u001b[0;34m\u001b[0m\u001b[0m\n",
      "\u001b[0;31mFileNotFoundError\u001b[0m: [Errno 2] No such file or directory: '../../data/tcga_RSEM_gene_tpm_sample_dataset.csv'"
     ]
    }
   ],
   "source": [
    "gene_express = pd.read_csv('../../data/tcga_RSEM_gene_tpm_sample_dataset.csv',index_col=0)"
   ]
  },
  {
   "cell_type": "markdown",
   "metadata": {},
   "source": [
    "# Data Exploration"
   ]
  },
  {
   "cell_type": "markdown",
   "metadata": {},
   "source": [
    "<span style=\"color:green\">**Data Frame**"
   ]
  },
  {
   "cell_type": "code",
   "execution_count": null,
   "metadata": {},
   "outputs": [],
   "source": [
    "#the data has more columns than rows. \n",
    "#this indicates that you should look into dimensionality reduction methods\n",
    "\n",
    "\n",
    "rows_and_columns_counter (gene_express)"
   ]
  },
  {
   "cell_type": "code",
   "execution_count": null,
   "metadata": {},
   "outputs": [],
   "source": [
    "gene_express.head(3)"
   ]
  },
  {
   "cell_type": "markdown",
   "metadata": {},
   "source": [
    "<span style=\"color:green\">**DataFrame Distributions Visualization:** Plot distribution of sample columns\n",
    "    \n",
    "- As there are 14460 columns, we cannot look at every feature individually.\n",
    "- Here we take a random sample of only 15 columns and look at their distributions. \n",
    "- This is to get a better feel of what the data looks like. \n"
   ]
  },
  {
   "cell_type": "code",
   "execution_count": null,
   "metadata": {},
   "outputs": [],
   "source": [
    "data = gene_express.sample(n=15,axis='columns')\n",
    "\n",
    "plot_distrib(data, ncols=5, nrows=3, figsize=(70, 50))"
   ]
  },
  {
   "cell_type": "markdown",
   "metadata": {},
   "source": [
    "# Dimensionality Reduction for Visualisation"
   ]
  },
  {
   "cell_type": "markdown",
   "metadata": {},
   "source": [
    "## t-SNE\n",
    "\n",
    "- **Important note:** bear in mind that t-SNE is mainly used for visualization purposes. So you shall not include it within the Pipeline"
   ]
  },
  {
   "cell_type": "markdown",
   "metadata": {},
   "source": [
    "<span style=\"color:green\">**Scatter Visualization in 2-D:** Using t-distributed Stochastic Neighbor Embedding  **(t-SNE)**\n",
    "    \n",
    "- (t-SNE) is a non-linear technique for dimensionality reduction that is particularly well suited for the visualization of high-dimensional datasets\n",
    "- https://scikit-learn.org/stable/modules/generated/sklearn.manifold.TSNE.html\n",
    "\n",
    "TSNE Parameters:\n",
    "- n_components = Dimension of the embedded space. We are projecting it onto 2 dimensions, so we can plot it in a scatter plot\n",
    "\n",
    "- perplexity = number of nearest neighbors that is used in other manifold learning algorithms. Consider selecting a value between 5 and 50. As the perplexity value increases, we generally observe a tendency towards clearer shapes in the visualization\n",
    "\n",
    "- n_iter = Maximum number of iterations for the optimization. Should be at least 250\n"
   ]
  },
  {
   "cell_type": "code",
   "execution_count": null,
   "metadata": {},
   "outputs": [],
   "source": [
    "# t-SNE Definition: \n",
    "tsne = TSNE(n_components=2, verbose=1, perplexity=50, n_iter=1000)"
   ]
  },
  {
   "cell_type": "code",
   "execution_count": null,
   "metadata": {},
   "outputs": [],
   "source": [
    "#we fit and transform high dimensional dataset to the tsne object defined above\n",
    "# Fit_Transform:\n",
    "X_tsne = tsne.fit_transform(gene_express)\n",
    "X_tsne"
   ]
  },
  {
   "cell_type": "code",
   "execution_count": null,
   "metadata": {},
   "outputs": [],
   "source": [
    "#X_tsne is the embedding of the training data in low-dimensional space (2 dimensions)\n",
    "\n",
    "print('original data shape:', gene_express.shape) #(6063, 14460)\n",
    "print('embedded data shape:', X_tsne.shape) #(6063, 2)"
   ]
  },
  {
   "cell_type": "markdown",
   "metadata": {},
   "source": [
    "__t-SNE Visualization:__\n",
    "- t-SNE maps the multi-dimensional data to a lower dimensional space and attempts to find patterns in the data by identifying observed clusters based on similarity of data points with multiple features.\n",
    "- Now the data has been reduced to two dimensions, we can plot and visualize it. \n",
    "\n",
    "- This was not possible with the original 14460 columns\n",
    "\n",
    "- However, after this process, the input features are no longer identifiable, and you cannot make any inference based only on the output of t-SNE. Hence it is mainly a data exploration and visualization technique.\n",
    "\n",
    "\n",
    "\n",
    "__t-SNE compared to other techniques:__\n",
    "- t-SNE does not scale well (PCA is much quicker) \n",
    "- t-SNE is for visualization purposes only. Clustering on t-SNE is a bad idea because it doesn't preserve the global data structure. Within cluster distances are  meaninful, but cluster distances between clusters are not guaranteed\n",
    "- We will only do clustering with PCA\n"
   ]
  },
  {
   "cell_type": "code",
   "execution_count": null,
   "metadata": {},
   "outputs": [],
   "source": [
    "# Plot Result of t-SNE:\n",
    "\n",
    "fig = plt.figure(figsize =(15, 15))\n",
    "\n",
    "# plot original roll\n",
    "# ax = fig.add_subplot(211, projection='3d')\n",
    "# ax.scatter(X[:, 0], X[:, 1], X[:, 2], c=color, cmap=plt.cm.Spectral)\n",
    "# ax.set_title(\"Original data\")\n",
    "\n",
    "# plot projected roll\n",
    "ax = fig.add_subplot()\n",
    "ax.scatter(X_tsne[:, 0], X_tsne[:, 1], cmap=plt.cm.Spectral)\n",
    "plt.axis('tight')\n",
    "plt.xticks([]), plt.yticks([])\n",
    "plt.title('t-SNE - Projected data')\n",
    "plt.show()"
   ]
  },
  {
   "cell_type": "markdown",
   "metadata": {},
   "source": [
    "## UMAP"
   ]
  },
  {
   "cell_type": "markdown",
   "metadata": {},
   "source": [
    "<span style=\"color:green\">**Scatter Visualization in 2-D:** Using Uniform Manifold Approximation and Projection **(UMAP)**\n",
    "    \n",
    "    \n",
    "- The biggest advantage of UMAP over t-SNE is the more optimal balance between local and global structure and the computational efficiency\n",
    "\n",
    "- https://umap-learn.readthedocs.io/en/latest/\n",
    "\n",
    "\n",
    "\n",
    "UMAP Parameters:\n",
    "- n_neighbors = parameter to control how UMAP balances local versus global structure in the data. It does this by constraining the size of the local neighborhood UMAP will look at when attempting to learn the manifold structure of the data. \n",
    "\n",
    "    This means that low values of n_neighbors will force UMAP to concentrate on very local structure (potentially to the detriment of the big picture), while large values will push UMAP to look at larger neighborhoods of each point when estimating the manifold structure of the data, losing fine detail structure for the sake of getting the broader of the data.\n",
    "\n",
    " \n",
    "- n_components = the dimensionality of the reduced dimension space we will be embedding the data into\n",
    "\n",
    "\n",
    "- min_dist = parameter controls how tightly UMAP is allowed to pack points together. It, quite literally, provides the minimum distance apart that points are allowed to be in the low dimensional representation. \n"
   ]
  },
  {
   "cell_type": "code",
   "execution_count": null,
   "metadata": {},
   "outputs": [],
   "source": [
    "# UMAP Definition:\n",
    "umap_embeddings = UMAP(n_neighbors=30, n_components=2,  min_dist= 0.3)"
   ]
  },
  {
   "cell_type": "code",
   "execution_count": null,
   "metadata": {},
   "outputs": [],
   "source": [
    "# Fit_Transform:\n",
    "X_umap = umap_embeddings.fit_transform(gene_express)"
   ]
  },
  {
   "cell_type": "code",
   "execution_count": null,
   "metadata": {},
   "outputs": [],
   "source": [
    "# Plot Result of UMAP:\n",
    "\n",
    "\n",
    "fig = plt.figure(figsize =(15, 15))\n",
    "\n",
    "\n",
    "# plot oroginal roll\n",
    "# ax = fig.add_subplot(211, projection='3d')\n",
    "# ax.scatter(X[:, 0], X[:, 1], X[:, 2], c=color, cmap=plt.cm.Spectral)\n",
    "# ax.set_title(\"Original data\")\n",
    "\n",
    "# plot projected roll\n",
    "ax = fig.add_subplot()\n",
    "ax.scatter(X_umap[:, 0], X_umap[:, 1],cmap=plt.cm.Spectral)\n",
    "plt.axis('tight')\n",
    "plt.xticks([]), plt.yticks([])\n",
    "plt.title('UMAP - Projected data')\n",
    "plt.show()\n",
    "\n",
    "\n",
    "#Think about how different the t-SNE and UMAP plots look, given that they are they same data!"
   ]
  },
  {
   "cell_type": "markdown",
   "metadata": {},
   "source": [
    "# Dimensionality Reduction for Clustering"
   ]
  },
  {
   "cell_type": "markdown",
   "metadata": {},
   "source": [
    "## Principal Component Analysis **(PCA)** \n",
    "\n",
    "<span style=\"color:green\"> Linear dimensionality reduction using Singular Value Decomposition of the data to project it to a lower dimensional space.\n",
    "    \n",
    "- The priority of PCA is to preserve large variances in the data using singular value decomposition. \n",
    "- It tries to provide a minimum number of variables that keeps the maximum amount of variation or information about how the original data is distributed\n",
    "\n",
    "\n",
    "- https://scikit-learn.org/stable/modules/generated/sklearn.decomposition.PCA.html"
   ]
  },
  {
   "cell_type": "code",
   "execution_count": null,
   "metadata": {},
   "outputs": [],
   "source": [
    "# PCA Definition:\n",
    "pca = PCA()"
   ]
  },
  {
   "cell_type": "code",
   "execution_count": null,
   "metadata": {},
   "outputs": [],
   "source": [
    "# Pipeline Definition: 1º) Scaling --> 2º) Model\n",
    "pipe_pca = Pipeline([(\"scl\", StandardScaler()), (\"pca\", pca)])"
   ]
  },
  {
   "cell_type": "code",
   "execution_count": null,
   "metadata": {},
   "outputs": [],
   "source": [
    "# Obtaining PCA Parameters:\n",
    "pca.get_params()"
   ]
  },
  {
   "cell_type": "code",
   "execution_count": null,
   "metadata": {},
   "outputs": [],
   "source": [
    "# Fit_transform:\n",
    "gene_pca = pipe_pca.fit_transform(gene_express)"
   ]
  },
  {
   "cell_type": "code",
   "execution_count": null,
   "metadata": {},
   "outputs": [],
   "source": [
    "#The explained_variance_ratio_ attribute in sklearn returns the percentage of variance explained by each of the selected components.\n",
    "#remember we are looking for the max variance between \n",
    "\n",
    "pipe_pca.named_steps[\"pca\"].explained_variance_ratio_\n",
    "\n"
   ]
  },
  {
   "cell_type": "code",
   "execution_count": null,
   "metadata": {},
   "outputs": [],
   "source": [
    "#numpy cumsum returns the cumulative sum of the elements \n",
    "#in this case, i\n",
    "\n",
    "evr = np.cumsum(pipe_pca.named_steps[\"pca\"].explained_variance_ratio_)\n",
    "evr"
   ]
  },
  {
   "cell_type": "markdown",
   "metadata": {},
   "source": [
    "<span style=\"color:green\">**PCA Visualization:** interceptor location"
   ]
  },
  {
   "cell_type": "code",
   "execution_count": null,
   "metadata": {},
   "outputs": [],
   "source": [
    "# Finding out the interceptor that represents 95% of the total variance:\n",
    "x_intercept = np.argmax(evr > 0.95) #evr is an array of the cumulative variances\n",
    "print('The interceptor is located at component: ', x_intercept)"
   ]
  },
  {
   "cell_type": "code",
   "execution_count": null,
   "metadata": {},
   "outputs": [],
   "source": [
    "# Ploting the location of the interceptor:\n",
    "\n",
    "plt.plot(evr, \"-x\", color=\"lightblue\") #plotting the cumulative sum of variance, so we can where the variance increases are not as pronounced\n",
    "plt.xlabel(\"Number of Components\")\n",
    "plt.ylabel(\"Explained Variance Ratio\")\n",
    "plt.axvline(x=x_intercept, color=\"red\") #vertical line to see the number of components that corresponds to the 95% total variance\n",
    "plt.axhline(y=0.95, color=\"red\") #horizontal line for 95% of the total variance \n",
    "None"
   ]
  },
  {
   "cell_type": "markdown",
   "metadata": {},
   "source": [
    "<span style=\"color:green\">**PCA Scatter Visualization in 2-D:** PCA example components\n",
    "    \n"
   ]
  },
  {
   "cell_type": "code",
   "execution_count": null,
   "metadata": {},
   "outputs": [],
   "source": [
    "#After dimensionality reduction, we can use gene_pca plot the principal components \n",
    "\n",
    "plt.rcParams[\"figure.figsize\"] = (15, 15)\n",
    "\n",
    "fig = plt.figure()\n",
    "\n",
    "# # plot original roll\n",
    "# ax = fig.add_subplot(311, projection='3d')\n",
    "# ax.scatter(X[:, 0], X[:, 1], X[:, 2], c=color, cmap=plt.cm.Spectral)\n",
    "# ax.set_title(\"Original data\")\n",
    "\n",
    "# plot projected roll (components 1 and 2)\n",
    "ax = fig.add_subplot(311)\n",
    "ax.scatter(gene_pca[:, 0], gene_pca[:, 1],  cmap=plt.cm.Spectral)\n",
    "plt.axis('tight')\n",
    "plt.xticks([]), plt.yticks([])\n",
    "plt.title('Projected data (components 1 and 2)')\n",
    "\n",
    "# plot projected roll (components 2 and 3)\n",
    "ax = fig.add_subplot(312)\n",
    "ax.scatter(gene_pca[:, 1], gene_pca[:, 2],cmap=plt.cm.Spectral)\n",
    "plt.axis('tight')\n",
    "plt.xticks([]), plt.yticks([])\n",
    "plt.title('Projected data (components 2 and 3)')\n",
    "plt.show()\n",
    "\n",
    "\n",
    "# # plot projected roll (components 1 and 3)\n",
    "# ax = fig.add_subplot(313)\n",
    "# ax.scatter(gene_pca[:, 2], gene_pca[:, 3],cmap=plt.cm.Spectral)\n",
    "# plt.axis('tight')\n",
    "# plt.xticks([]), plt.yticks([])\n",
    "# plt.title('Projected data (components 1 and 3)')\n",
    "# plt.show()\n",
    "\n",
    "plt.show()"
   ]
  },
  {
   "cell_type": "markdown",
   "metadata": {},
   "source": [
    "# Clustering"
   ]
  },
  {
   "cell_type": "markdown",
   "metadata": {},
   "source": [
    "<span style=\"color:green\">**K-Means after PCA:** select the ‘optimal’ number of clusters with the **Elbow Method (for a 95% of variance)**\n",
    "    \n",
    "- After using PCA for dimensionality reduction, we can use k-means clustering to find the number of clusters. \n",
    "- Determining the ideal number of clusters for our k-means model can be done by measuring the sum of the squared distances to the nearest cluster center\n",
    "- The k-means plot below indicates the percentage of variance explained, but in slightly different terms, as a function of the number of clusters.\n"
   ]
  },
  {
   "cell_type": "code",
   "execution_count": null,
   "metadata": {},
   "outputs": [],
   "source": [
    "r_seed = 23  # random seed to use during modeling for reproducibility \n",
    "cluster_errors = []\n",
    "\n",
    "for i in range(1, 14):\n",
    "    n_clusters = i\n",
    "    pipe_pca_kmean = Pipeline(\n",
    "        [\n",
    "            (\"scl\", StandardScaler()), \n",
    "            (\"pca\", PCA(0.95)), \n",
    "            (\"cluster\", KMeans(n_clusters=n_clusters, random_state=r_seed, verbose=0, n_jobs=1))]\n",
    "    )\n",
    "\n",
    "    pipe_pca_kmean.fit(gene_express)\n",
    "    pipe_pca_kmean.predict(gene_express)\n",
    "    cluster_errors.append(pipe_pca_kmean.named_steps[\"cluster\"].inertia_) "
   ]
  },
  {
   "cell_type": "code",
   "execution_count": null,
   "metadata": {},
   "outputs": [],
   "source": [
    "plt.clf()\n",
    "plt.plot(cluster_errors, \"o-\")\n",
    "plt.xlabel(\"n_clusters\")\n",
    "plt.ylabel(\"sum sq distances from mean\")\n",
    "plt.show()"
   ]
  },
  {
   "cell_type": "markdown",
   "metadata": {},
   "source": [
    "<span style=\"color:green\">**K-Means clustering with PCA:**"
   ]
  },
  {
   "cell_type": "code",
   "execution_count": null,
   "metadata": {},
   "outputs": [],
   "source": [
    "# Pipeline Definition: 1º) Scaling --> 2º) Model --> 3º) Clusterization Method\n",
    "\n",
    "pipe_pca_kmean = Pipeline(\n",
    "        [\n",
    "            (\"scl\", StandardScaler()), \n",
    "            (\"pca\", PCA(0.95)), \n",
    "            (\"cluster\", KMeans(n_clusters=6, random_state=r_seed, verbose=0, n_jobs=1))]\n",
    "    )\n"
   ]
  },
  {
   "cell_type": "code",
   "execution_count": null,
   "metadata": {},
   "outputs": [],
   "source": [
    "# Fit:\n",
    "pipe_pca_kmean.fit(gene_express)"
   ]
  },
  {
   "cell_type": "code",
   "execution_count": null,
   "metadata": {},
   "outputs": [],
   "source": [
    "gene_kmean_cluster = pd.DataFrame(\n",
    "    data = pipe_pca_kmean.named_steps[\"cluster\"].labels_,\n",
    "    index = gene_express.index,\n",
    "    columns=['kmean_cluster']\n",
    ")"
   ]
  },
  {
   "cell_type": "code",
   "execution_count": null,
   "metadata": {},
   "outputs": [],
   "source": [
    "gene_kmean_cluster['kmean_cluster'].value_counts()"
   ]
  },
  {
   "cell_type": "markdown",
   "metadata": {},
   "source": [
    "<span style=\"color:green\">**Visualize cluster by t-SNE:**"
   ]
  },
  {
   "cell_type": "code",
   "execution_count": null,
   "metadata": {},
   "outputs": [],
   "source": [
    "# tsne = TSNE(n_components=2, verbose=1, perplexity=50, n_iter=611)"
   ]
  },
  {
   "cell_type": "code",
   "execution_count": null,
   "metadata": {},
   "outputs": [],
   "source": [
    "# X_tsne = tsne.fit_transform(gene_express)"
   ]
  },
  {
   "cell_type": "code",
   "execution_count": null,
   "metadata": {},
   "outputs": [],
   "source": [
    "fig = plt.figure()\n",
    "\n",
    "# # plot original roll\n",
    "# ax = fig.add_subplot(211, projection='3d')\n",
    "# ax.scatter(X[:, 0], X[:, 1], X[:, 2], c=color, cmap=plt.cm.Spectral)\n",
    "# ax.set_title(\"Original data\")\n",
    "\n",
    "# plot projected roll\n",
    "ax = fig.add_subplot()\n",
    "ax.scatter(X_tsne[:, 0], X_tsne[:, 1], c= gene_kmean_cluster['kmean_cluster'],alpha=.5, cmap=plt.cm.Spectral)\n",
    "plt.axis('tight')\n",
    "plt.xticks([]), plt.yticks([])\n",
    "plt.title('t-SNE Projected data with Kmean Cluster')\n",
    "plt.show()\n",
    "\n",
    "\n",
    "# plt.show()"
   ]
  },
  {
   "cell_type": "markdown",
   "metadata": {},
   "source": [
    "<span style=\"color:green\">**Uniform Manifold Approximation and Projection (UMAP):** using elbow method"
   ]
  },
  {
   "cell_type": "code",
   "execution_count": null,
   "metadata": {},
   "outputs": [],
   "source": [
    "rows_and_columns_counter (gene_express)"
   ]
  },
  {
   "cell_type": "code",
   "execution_count": null,
   "metadata": {},
   "outputs": [],
   "source": [
    "cluster_errors = []\n",
    "for i in range(1, 14):\n",
    "    n_clusters = i\n",
    "    pipe_umap_kmean = Pipeline(\n",
    "        [\n",
    "            (\"scl\", StandardScaler()), \n",
    "            (\"UMAP\", UMAP(n_neighbors=30, n_components=100,  min_dist= 0.3)), \n",
    "            (\"cluster\", KMeans(n_clusters=n_clusters, random_state=r_seed, verbose=0, n_jobs=1))]\n",
    "    )\n",
    "    pipe_umap_kmean.fit(gene_express)\n",
    "    pipe_umap_kmean.predict(gene_express)\n",
    "    cluster_errors.append(pipe_umap_kmean.named_steps[\"cluster\"].inertia_) "
   ]
  },
  {
   "cell_type": "code",
   "execution_count": null,
   "metadata": {},
   "outputs": [],
   "source": [
    "plt.clf()\n",
    "plt.plot(cluster_errors, \"o-\")\n",
    "plt.xlabel(\"n_clusters\")\n",
    "plt.ylabel(\"sum sq distances from mean\")\n",
    "plt.show()"
   ]
  },
  {
   "cell_type": "markdown",
   "metadata": {},
   "source": [
    "<span style=\"color:green\">**K-mean after UMAP:**"
   ]
  },
  {
   "cell_type": "code",
   "execution_count": null,
   "metadata": {},
   "outputs": [],
   "source": [
    "pipe_umap_kmean = Pipeline(\n",
    "        [\n",
    "            (\"scl\", StandardScaler()), \n",
    "            (\"UMAP\", UMAP(n_neighbors=30, n_components=100,  min_dist= 0.3)), \n",
    "            (\"cluster\", KMeans(n_clusters=6, random_state=r_seed, verbose=0, n_jobs=1))]\n",
    "    )"
   ]
  },
  {
   "cell_type": "code",
   "execution_count": null,
   "metadata": {},
   "outputs": [],
   "source": [
    "pipe_umap_kmean.fit(gene_express)"
   ]
  },
  {
   "cell_type": "code",
   "execution_count": null,
   "metadata": {},
   "outputs": [],
   "source": [
    "gene_umap_cluster = pd.DataFrame(\n",
    "    data = pipe_umap_kmean.named_steps[\"cluster\"].labels_,\n",
    "    index = gene_express.index,\n",
    "    columns=['Cluster_id'])"
   ]
  },
  {
   "cell_type": "code",
   "execution_count": null,
   "metadata": {},
   "outputs": [],
   "source": [
    "gene_umap_cluster['Cluster_id'].value_counts()"
   ]
  },
  {
   "cell_type": "markdown",
   "metadata": {},
   "source": [
    "### Visualize cluster by t-SNE"
   ]
  },
  {
   "cell_type": "code",
   "execution_count": null,
   "metadata": {},
   "outputs": [],
   "source": [
    "# tsne = TSNE(n_components=2, verbose=1, perplexity=50, n_iter=611)"
   ]
  },
  {
   "cell_type": "code",
   "execution_count": null,
   "metadata": {},
   "outputs": [],
   "source": [
    "# X_tsne = tsne.fit_transform(gene_express)"
   ]
  },
  {
   "cell_type": "code",
   "execution_count": null,
   "metadata": {},
   "outputs": [],
   "source": [
    "fig = plt.figure()\n",
    "\n",
    "# # plot original roll\n",
    "# ax = fig.add_subplot(211, projection='3d')\n",
    "# ax.scatter(X[:, 0], X[:, 1], X[:, 2], c=color, cmap=plt.cm.Spectral)\n",
    "# ax.set_title(\"Original data\")\n",
    "\n",
    "# plot projected roll\n",
    "ax = fig.add_subplot()\n",
    "ax.scatter(X_tsne[:, 0], X_tsne[:, 1], c= gene_umap_cluster['Cluster_id'],alpha =0.5, cmap=plt.cm.Spectral)\n",
    "plt.axis('tight')\n",
    "plt.xticks([]), plt.yticks([])\n",
    "plt.title('t-SNE Projected data with UMAP cluster')\n",
    "plt.show()\n",
    "\n",
    "\n",
    "# plt.show()"
   ]
  },
  {
   "cell_type": "markdown",
   "metadata": {},
   "source": [
    "### Compare with given labels"
   ]
  },
  {
   "cell_type": "code",
   "execution_count": null,
   "metadata": {},
   "outputs": [],
   "source": [
    "#these are the clusters that UMAP has given us\n",
    "gene_umap_cluster.head()"
   ]
  },
  {
   "cell_type": "code",
   "execution_count": null,
   "metadata": {},
   "outputs": [],
   "source": [
    "#phenotype_labels.csv has the true labels\n",
    "phenotype = pd.read_csv('../data/phenotype_labels.csv',index_col=0)"
   ]
  },
  {
   "cell_type": "code",
   "execution_count": null,
   "metadata": {},
   "outputs": [],
   "source": [
    "phenotype.head()"
   ]
  },
  {
   "cell_type": "code",
   "execution_count": null,
   "metadata": {},
   "outputs": [],
   "source": [
    "le = LabelEncoder()"
   ]
  },
  {
   "cell_type": "code",
   "execution_count": null,
   "metadata": {},
   "outputs": [],
   "source": [
    "\n",
    "phenotype['primary_disease_id'] = le.fit_transform(phenotype['_primary_disease'])"
   ]
  },
  {
   "cell_type": "code",
   "execution_count": null,
   "metadata": {},
   "outputs": [],
   "source": [
    "phenotype.head()"
   ]
  },
  {
   "cell_type": "code",
   "execution_count": null,
   "metadata": {},
   "outputs": [],
   "source": [
    "phenotype['primary_disease_id'].value_counts()"
   ]
  },
  {
   "cell_type": "code",
   "execution_count": null,
   "metadata": {},
   "outputs": [],
   "source": [
    "le.classes_"
   ]
  },
  {
   "cell_type": "code",
   "execution_count": null,
   "metadata": {},
   "outputs": [],
   "source": [
    "gene_umap_cluster['disease_id'] = phenotype['primary_disease_id']"
   ]
  },
  {
   "cell_type": "code",
   "execution_count": null,
   "metadata": {},
   "outputs": [],
   "source": [
    "gene_express.head()"
   ]
  },
  {
   "cell_type": "code",
   "execution_count": null,
   "metadata": {},
   "outputs": [],
   "source": [
    "phenotype['primary_disease_id'].reindex(gene_express.index)"
   ]
  },
  {
   "cell_type": "code",
   "execution_count": null,
   "metadata": {},
   "outputs": [],
   "source": [
    "fig = plt.figure()\n",
    "\n",
    "# # plot original roll\n",
    "# ax = fig.add_subplot(211, projection='3d')\n",
    "# ax.scatter(X[:, 0], X[:, 1], X[:, 2], c=color, cmap=plt.cm.Spectral)\n",
    "# ax.set_title(\"Original data\")\n",
    "\n",
    "# plot projected roll\n",
    "ax = fig.add_subplot()\n",
    "ax.scatter(X_tsne[:, 0], X_tsne[:, 1], c= phenotype['primary_disease_id'].reindex(gene_express.index),alpha =0.5, cmap=plt.cm.Spectral)\n",
    "plt.axis('tight')\n",
    "plt.xticks([]), plt.yticks([])\n",
    "plt.title('t-SNE Projected data with real data')\n",
    "plt.show()\n",
    "\n",
    "\n",
    "# plt.show()"
   ]
  },
  {
   "cell_type": "code",
   "execution_count": null,
   "metadata": {},
   "outputs": [],
   "source": [
    "gene_kmean_cluster['disease_id'] = phenotype['primary_disease_id']"
   ]
  },
  {
   "cell_type": "code",
   "execution_count": null,
   "metadata": {},
   "outputs": [],
   "source": [
    "gene_kmean_cluster.head()"
   ]
  },
  {
   "cell_type": "markdown",
   "metadata": {},
   "source": [
    "### Sankey Diagram Kmean"
   ]
  },
  {
   "cell_type": "code",
   "execution_count": null,
   "metadata": {},
   "outputs": [],
   "source": [
    "sd = gene_kmean_cluster.groupby([\"kmean_cluster\", \"disease_id\"]).size().reset_index(name=\"value\")"
   ]
  },
  {
   "cell_type": "code",
   "execution_count": null,
   "metadata": {},
   "outputs": [],
   "source": [
    "len(sd['disease_id'].unique())"
   ]
  },
  {
   "cell_type": "code",
   "execution_count": null,
   "metadata": {},
   "outputs": [],
   "source": [
    "sd['kmean_cluster'] = sd['kmean_cluster']+len(sd['disease_id'].unique())"
   ]
  },
  {
   "cell_type": "code",
   "execution_count": null,
   "metadata": {},
   "outputs": [],
   "source": [
    "sd.head()"
   ]
  },
  {
   "cell_type": "code",
   "execution_count": null,
   "metadata": {},
   "outputs": [],
   "source": [
    "sd_labels = list(le.classes_) +['KMEAN'+str(i) for i in range(len(sd['kmean_cluster'].unique()))]"
   ]
  },
  {
   "cell_type": "code",
   "execution_count": null,
   "metadata": {},
   "outputs": [],
   "source": [
    "sd_labels"
   ]
  },
  {
   "cell_type": "code",
   "execution_count": null,
   "metadata": {},
   "outputs": [],
   "source": [
    "fig = go.Figure(\n",
    "    data = [\n",
    "    go.Sankey(\n",
    "    node=dict(\n",
    "        label= sd_labels\n",
    "    ),\n",
    "    link=dict(\n",
    "        source=list(sd[\"disease_id\"]), target=list(sd[\"kmean_cluster\"]), value=list(sd[\"value\"])\n",
    "    ),\n",
    "\n",
    "        )\n",
    "    ]\n",
    ")\n",
    "       \n",
    "\n",
    "fig.update_layout(title_text=\" Kmeans Cluster Analysis\", font_size=15)\n",
    "fig.show()"
   ]
  },
  {
   "cell_type": "markdown",
   "metadata": {},
   "source": [
    "### Sankey Diagram UMAP\n",
    "<span style=\"color:green\"> A Sankey diagram is a flow diagram, in which the width of arrows is proportional to the flow quantity.\n",
    "\n",
    "\n",
    "\n",
    "https://plotly.com/python/sankey-diagram/"
   ]
  },
  {
   "cell_type": "code",
   "execution_count": null,
   "metadata": {},
   "outputs": [],
   "source": [
    "sd_umap = gene_umap_cluster.groupby([\"Cluster_id\", \"disease_id\"]).size().reset_index(name=\"value\")"
   ]
  },
  {
   "cell_type": "code",
   "execution_count": null,
   "metadata": {},
   "outputs": [],
   "source": [
    "len(sd_umap['disease_id'].unique())"
   ]
  },
  {
   "cell_type": "code",
   "execution_count": null,
   "metadata": {},
   "outputs": [],
   "source": [
    "sd_umap['Cluster_id'] = sd_umap['Cluster_id']+len(sd_umap['disease_id'].unique())"
   ]
  },
  {
   "cell_type": "code",
   "execution_count": null,
   "metadata": {},
   "outputs": [],
   "source": [
    "sd_umap.head()"
   ]
  },
  {
   "cell_type": "code",
   "execution_count": null,
   "metadata": {},
   "outputs": [],
   "source": [
    "sd_umap_labels = list(le.classes_) +['UMAP'+str(i) for i in range(len(sd_umap['Cluster_id'].unique()))]"
   ]
  },
  {
   "cell_type": "code",
   "execution_count": null,
   "metadata": {},
   "outputs": [],
   "source": [
    "sd_umap_labels"
   ]
  },
  {
   "cell_type": "code",
   "execution_count": null,
   "metadata": {},
   "outputs": [],
   "source": [
    " fig = go.Figure(\n",
    "    data = [\n",
    "    go.Sankey(\n",
    "    node=dict(\n",
    "        label= sd_umap_labels\n",
    "    ),\n",
    "    link=dict(\n",
    "        source=list(sd_umap[\"disease_id\"]), target=list(sd_umap[\"Cluster_id\"]), value=list(sd_umap[\"value\"])\n",
    "    ),\n",
    "\n",
    "        )\n",
    "    ]\n",
    ")\n",
    "       \n",
    "\n",
    "fig.update_layout(title_text=\"UMAP Cluster Analysis\", font_size=15)\n",
    "fig.show()"
   ]
  },
  {
   "cell_type": "markdown",
   "metadata": {},
   "source": [
    "--------------"
   ]
  },
  {
   "cell_type": "markdown",
   "metadata": {},
   "source": [
    "# End of This Notebook"
   ]
  }
 ],
 "metadata": {
  "kernelspec": {
   "display_name": "ml-082021",
   "language": "python",
   "name": "ml-082021"
  },
  "language_info": {
   "codemirror_mode": {
    "name": "ipython",
    "version": 3
   },
   "file_extension": ".py",
   "mimetype": "text/x-python",
   "name": "python",
   "nbconvert_exporter": "python",
   "pygments_lexer": "ipython3",
   "version": "3.9.6"
  }
 },
 "nbformat": 4,
 "nbformat_minor": 4
}
